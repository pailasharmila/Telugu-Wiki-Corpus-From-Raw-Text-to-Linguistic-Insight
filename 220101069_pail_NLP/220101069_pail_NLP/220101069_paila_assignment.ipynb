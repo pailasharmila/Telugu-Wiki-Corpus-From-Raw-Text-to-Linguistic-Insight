{
 "cells": [
  {
   "cell_type": "markdown",
   "id": "dfb783c4-17e5-4e50-a539-1de3f499da21",
   "metadata": {},
   "source": [
    "#### Step 1: Downloading the Telugu Wikipedia Dump\n",
    "\n",
    "          - The first step involved retrieving the Telugu Wikipedia data using the wget command. \n",
    "          - wget --recursive --level=4 --no-clobber --adjust-extension --convert-links --restrict-file-names=unix --no-parent --reject \"*.jpg,*.jpeg,*.png,*.gif,*.mp4,*.mp3,*.avi,*.mov,*.pdf,*.zip,*.tar.gz,*.iso\" --execute robots=off --no-check-certificate -P downloaded_site https://te.wikipedia.org/wiki"
   ]
  },
  {
   "cell_type": "markdown",
   "id": "8914a12e-d68a-41a9-859e-ec872c43f6e4",
   "metadata": {},
   "source": [
    "#### Step 2: HTML to Text Conversion\n",
    "\n",
    "The downloaded Wikipedia pages contain markup that needs to be stripped to extract meaningful text. \n",
    "The module developed for this step extracts only the main body content inside <div class=\"mw-parser-output\">, \n",
    "avoiding sections such as Table of Contents, Further Reading, See Also, and References."
   ]
  },
  {
   "cell_type": "markdown",
   "id": "d19299d7-dd6c-4491-8b2c-aad826340964",
   "metadata": {},
   "source": [
    "#### Step 3: Merging All Text Files into a Single Corpus\n",
    "\n",
    "$ cat *.txt > corpus.txt\n",
    "A single large corpus allows for more efficient processing in subsequent steps. It also helps in identifying patterns across different articles, ensuring a broader representation of Telugu linguistic structures."
   ]
  },
  {
   "cell_type": "markdown",
   "id": "24d33e35-28fa-4235-9afd-a6efe3822c2e",
   "metadata": {},
   "source": [
    "#### Step 4: Converting the Corpus to One Sentence per Line\n",
    "A module was developed to segment the corpus into individual sentences, ensuring each line contains one complete sentence"
   ]
  },
  {
   "cell_type": "markdown",
   "id": "b93adda9-5e5d-46e5-995b-aa6053767558",
   "metadata": {},
   "source": [
    "#### Step 5: Sentence Statistics Computation\n",
    "\n",
    "Each sentence in the corpus was analyzed to extract:\n",
    "Sentence ID,Total number of words,Average words per sentence,Total character count"
   ]
  },
  {
   "cell_type": "markdown",
   "id": "ac39ead2-f7f3-400b-b51b-448568150da2",
   "metadata": {},
   "source": [
    "#### Step 6: Removing Punctuation (Except Sentence Terminators)\n",
    "\n",
    "A cleaning module was developed to remove unnecessary punctuation while preserving sentence terminators like . ? ! to maintain readability."
   ]
  },
  {
   "cell_type": "markdown",
   "id": "f02d1aad-d72d-42c5-a054-7a5d11832a0b",
   "metadata": {},
   "source": [
    "#### Step 7: Generating Word Unigram & Bigram Frequencies\n",
    "\n",
    "Unigrams (single words) and bigrams (two-word sequences) were extracted along with their frequency distributions. The results were stored in wordUnigramFreq.txt and wordBigramFreq.txt, and a frequency distribution plot was generated."
   ]
  },
  {
   "cell_type": "markdown",
   "id": "130658db-a7c8-4140-bc11-0a5393666524",
   "metadata": {},
   "source": [
    "#### Step 8: Developing a Morphological Analyzer\n",
    "A morphological analyzer was implemented using statistical approaches such as n-grams, Maximum Likelihood Estimation (MLE), and Backoff smoothing to segment Telugu words into their morphemes (root, suffix, and possible prefixes)."
   ]
  },
  {
   "cell_type": "markdown",
   "id": "a0c66a04-e088-406e-acf3-a7f472ae7ff4",
   "metadata": {},
   "source": [
    "#### Step 9: Stop Word Removal and Stop Word List Generation\n",
    "\n",
    "A module was developed to remove stop words from each sentence in sentence-corpus.txt. The stop word list was generated based on:\n",
    "\n",
    "- Corpus-Based Stop Words: Words that appear in more than 5% of the sentences were identified as high-frequency words and included in the stop word list.\n",
    "\n",
    "- Standard Telugu Stop Words: Predefined stop words from available linguistic resources like NLTK were incorporated.\n",
    "\n",
    "- Manually Curated Stop Words: Common Telugu function words that add little meaning but frequently occur in the text were added."
   ]
  },
  {
   "cell_type": "code",
   "execution_count": 2,
   "id": "9e1e408f-a0a0-42b6-8e12-69504766eacb",
   "metadata": {},
   "outputs": [
    {
     "name": "stdout",
     "output_type": "stream",
     "text": [
      "HTML to text conversion completed! Check the 'extracted_text/' folder.\n"
     ]
    }
   ],
   "source": [
    "import os\n",
    "from bs4 import BeautifulSoup\n",
    "\n",
    "# Input and output directories\n",
    "html_dir  = r\"\\\\wsl.localhost\\Ubuntu\\home\\paila\\wikipedia_project\"\n",
    "\n",
    "text_dir = \"extracted_text/\"\n",
    "\n",
    "# Ensure output directory exists\n",
    "os.makedirs(text_dir, exist_ok=True)\n",
    "\n",
    "# Process each HTML file\n",
    "for filename in os.listdir(html_dir):\n",
    "    if filename.endswith(\".html\"):  # Process only HTML files\n",
    "        html_path = os.path.join(html_dir, filename)\n",
    "        text_path = os.path.join(text_dir, filename.replace(\".html\", \".txt\"))\n",
    "\n",
    "        with open(html_path, \"r\", encoding=\"utf-8\") as file:\n",
    "            soup = BeautifulSoup(file, \"html.parser\")\n",
    "\n",
    "            # Extract main content inside <div class=\"mw-parser-output\">\n",
    "            content_div = soup.find(\"div\", class_=\"mw-parser-output\")\n",
    "\n",
    "            if content_div:\n",
    "                # Remove unwanted sections (References, See Also, TOC, etc.)\n",
    "                for section in content_div.find_all([\"table\", \"sup\", \"div\", \"span\"]):\n",
    "                    section.decompose()\n",
    "\n",
    "                text = content_div.get_text(separator=\"\\n\", strip=True)\n",
    "\n",
    "                # Save extracted text to a file\n",
    "                with open(text_path, \"w\", encoding=\"utf-8\") as text_file:\n",
    "                    text_file.write(text)\n",
    "\n",
    "print(\"HTML to text conversion completed! Check the 'extracted_text/' folder.\")\n"
   ]
  },
  {
   "cell_type": "code",
   "execution_count": 11,
   "id": "f44881c8-15b4-4c15-af4a-efea4e23ed7e",
   "metadata": {},
   "outputs": [
    {
     "name": "stdout",
     "output_type": "stream",
     "text": [
      " Sentence splitting complete! Saved as \\\\wsl.localhost\\Ubuntu\\home\\paila\\wikipedia_project\\extracted_text\\sentence-corpus.txt\n"
     ]
    }
   ],
   "source": [
    "import re\n",
    "import os\n",
    "\n",
    "# Define paths for WSL in Windows Jupyter\n",
    "input_file = r\"\\\\wsl.localhost\\Ubuntu\\home\\paila\\wikipedia_project\\extracted_text\\corpus.txt\"\n",
    "output_file = r\"\\\\wsl.localhost\\Ubuntu\\home\\paila\\wikipedia_project\\extracted_text\\sentence-corpus.txt\"\n",
    "\n",
    "# Ensure the input file exists\n",
    "if not os.path.exists(input_file):\n",
    "    print(f\"Error: The input file '{input_file}' does not exist.\")\n",
    "else:\n",
    "    # Read the entire corpus\n",
    "    with open(input_file, \"r\", encoding=\"utf-8\") as f:\n",
    "        text = f.read()\n",
    "\n",
    "    # Split text into sentences using punctuation marks\n",
    "    sentences = re.split(r'(?<=[.!?])\\s+', text)\n",
    "\n",
    "    # Write each sentence on a new line\n",
    "    with open(output_file, \"w\", encoding=\"utf-8\") as f:\n",
    "        for sentence in sentences:\n",
    "            sentence = sentence.strip()\n",
    "            if sentence:  # Avoid empty lines\n",
    "                f.write(sentence + \"\\n\")\n",
    "\n",
    "    print(f\" Sentence splitting complete! Saved as {output_file}\")\n"
   ]
  },
  {
   "cell_type": "code",
   "execution_count": 16,
   "id": "bb572846-0c54-4781-9aab-73aa6cf33736",
   "metadata": {},
   "outputs": [
    {
     "name": "stdout",
     "output_type": "stream",
     "text": [
      " Sentence statistics saved to \\\\wsl.localhost\\Ubuntu\\home\\paila\\wikipedia_project\\extracted_text\\sentence-stats.txt\n"
     ]
    }
   ],
   "source": [
    "import os\n",
    "\n",
    "# Define input and output file paths for WSL in Windows Jupyter\n",
    "input_file = r\"\\\\wsl.localhost\\Ubuntu\\home\\paila\\wikipedia_project\\extracted_text\\sentence-corpus.txt\"\n",
    "output_file = r\"\\\\wsl.localhost\\Ubuntu\\home\\paila\\wikipedia_project\\extracted_text\\sentence-stats.txt\"\n",
    "\n",
    "# Check if the input file exists\n",
    "if not os.path.exists(input_file):\n",
    "    print(f\"Error: {input_file} not found!\")\n",
    "    exit()\n",
    "\n",
    "# Read the sentences from the file\n",
    "with open(input_file, \"r\", encoding=\"utf-8\") as f:\n",
    "    sentences = [line.strip() for line in f.readlines() if line.strip()]\n",
    "\n",
    "# Calculate sentence statistics\n",
    "stats = []\n",
    "total_words = 0\n",
    "\n",
    "for idx, sentence in enumerate(sentences, 1):\n",
    "    words = sentence.split()\n",
    "    word_count = len(words)\n",
    "    char_count = len(sentence)\n",
    "    stats.append(f\"{idx}\\t{word_count}\\t{char_count}\")\n",
    "    total_words += word_count\n",
    "\n",
    "# Compute the average words per sentence\n",
    "avg_words_per_sentence = total_words / len(sentences) if sentences else 0\n",
    "\n",
    "# Write statistics to output file\n",
    "with open(output_file, \"w\", encoding=\"utf-8\") as f:\n",
    "    f.write(\"Sentence ID\\tTotal Words\\tTotal Characters\\n\")\n",
    "    f.write(\"\\n\".join(stats))\n",
    "    f.write(f\"\\n\\nAverage Words Per Sentence: {avg_words_per_sentence:.2f}\\n\")\n",
    "\n",
    "print(f\" Sentence statistics saved to {output_file}\")\n",
    "\n",
    "   "
   ]
  },
  {
   "cell_type": "code",
   "execution_count": 13,
   "id": "5fbb7350-d647-4fd4-94eb-dc2bc0f3ec44",
   "metadata": {},
   "outputs": [
    {
     "name": "stdout",
     "output_type": "stream",
     "text": [
      " Cleaned corpus saved to \\\\wsl.localhost\\Ubuntu\\home\\paila\\wikipedia_project\\extracted_text\\cleanCorpus.txt\n"
     ]
    }
   ],
   "source": [
    "import os\n",
    "import re\n",
    "import string\n",
    "\n",
    "# Define input and output file paths for WSL in Windows Jupyter\n",
    "input_file = r\"\\\\wsl.localhost\\Ubuntu\\home\\paila\\wikipedia_project\\extracted_text\\sentence-corpus.txt\"\n",
    "output_file = r\"\\\\wsl.localhost\\Ubuntu\\home\\paila\\wikipedia_project\\extracted_text\\cleanCorpus.txt\"\n",
    "\n",
    "# Check if the input file exists\n",
    "if not os.path.exists(input_file):\n",
    "    print(f\"Error: {input_file} not found!\")\n",
    "    exit()\n",
    "\n",
    "# Read the sentences\n",
    "with open(input_file, \"r\", encoding=\"utf-8\") as f:\n",
    "    sentences = [line.strip() for line in f.readlines() if line.strip()]\n",
    "\n",
    "# Define punctuation to keep (sentence terminators)\n",
    "keep_punctuation = {\".\", \"?\", \"!\"}\n",
    "\n",
    "# Function to clean punctuation except sentence terminators\n",
    "def clean_sentence(sentence):\n",
    "    return \"\".join([char if char not in string.punctuation or char in keep_punctuation else \" \" for char in sentence])\n",
    "\n",
    "# Apply cleaning\n",
    "cleaned_sentences = [clean_sentence(sentence) for sentence in sentences]\n",
    "\n",
    "# Save to output file\n",
    "with open(output_file, \"w\", encoding=\"utf-8\") as f:\n",
    "    f.write(\"\\n\".join(cleaned_sentences) + \"\\n\")\n",
    "\n",
    "print(f\" Cleaned corpus saved to {output_file}\")\n"
   ]
  },
  {
   "cell_type": "code",
   "execution_count": 17,
   "id": "a36a7160-0b1a-4e83-b72c-67c5a22a7002",
   "metadata": {},
   "outputs": [
    {
     "name": "stdout",
     "output_type": "stream",
     "text": [
      "Defaulting to user installation because normal site-packages is not writeable\n",
      "Requirement already satisfied: mwparserfromhell in c:\\users\\mrpkr\\appdata\\roaming\\python\\python312\\site-packages (0.6.6)\n"
     ]
    }
   ],
   "source": [
    "!pip install mwparserfromhell\n"
   ]
  },
  {
   "cell_type": "code",
   "execution_count": 22,
   "id": "509b6dc1-19b7-45ad-850c-93a355965d8f",
   "metadata": {},
   "outputs": [
    {
     "name": "stdout",
     "output_type": "stream",
     "text": [
      " Word unigram frequencies saved to: \\\\wsl.localhost\\Ubuntu\\home\\paila\\wikipedia_project\\extracted_text\\wordUnigramFreq.txt\n",
      " Word bigram frequencies saved to: \\\\wsl.localhost\\Ubuntu\\home\\paila\\wikipedia_project\\extracted_text\\wordBigramFreq.txt\n"
     ]
    },
    {
     "data": {
      "image/png": "[encoded data removed]",
      "text/plain": [
       "<Figure size 1200x600 with 1 Axes>"
      ]
     },
     "metadata": {},
     "output_type": "display_data"
    },
    {
     "data": {
      "image/png": "[encoded data removed]",
      "text/plain": [
       "<Figure size 1200x600 with 1 Axes>"
      ]
     },
     "metadata": {},
     "output_type": "display_data"
    }
   ],
   "source": [
    "import os\n",
    "import re\n",
    "import mwparserfromhell\n",
    "import matplotlib.pyplot as plt\n",
    "from collections import Counter\n",
    "import warnings\n",
    "import sys\n",
    "import os\n",
    "\n",
    "warnings.filterwarnings(\"ignore\") \n",
    "sys.stderr = open(os.devnull, 'w')  \n",
    "\n",
    "\n",
    "input_file = r\"\\\\wsl.localhost\\Ubuntu\\home\\paila\\wikipedia_project\\extracted_text\\cleanCorpus.txt\"\n",
    "unigram_output = r\"\\\\wsl.localhost\\Ubuntu\\home\\paila\\wikipedia_project\\extracted_text\\wordUnigramFreq.txt\"\n",
    "bigram_output = r\"\\\\wsl.localhost\\Ubuntu\\home\\paila\\wikipedia_project\\extracted_text\\wordBigramFreq.txt\"\n",
    "\n",
    "# Function to extract plain text from Wikipedia dump\n",
    "def extract_text_from_wiki_dump(file_path):\n",
    "    with open(file_path, 'r', encoding='utf-8') as file:\n",
    "        text = file.read()\n",
    "    parsed_text = mwparserfromhell.parse(text).strip_code()\n",
    "    return parsed_text\n",
    "\n",
    "# Function to clean and tokenize text\n",
    "def clean_and_tokenize(text):\n",
    "    text = re.sub(r'[^\\w\\s]', '', text)  \n",
    "    words = text.split()\n",
    "    return words\n",
    "\n",
    "# Function to count unigram and bigram frequencies\n",
    "def count_ngram_frequency(words, n=1):\n",
    "    ngrams = zip(*[words[i:] for i in range(n)])\n",
    "    return Counter([\" \".join(ngram) for ngram in ngrams])\n",
    "\n",
    "# Function to plot frequency distribution\n",
    "def plot_frequency_distribution(ngram_frequencies, title, top_n=20):\n",
    "    most_common = ngram_frequencies.most_common(top_n)\n",
    "    words, freqs = zip(*most_common)  \n",
    "    plt.figure(figsize=(12, 6))\n",
    "    plt.bar(words, freqs, color='skyblue')\n",
    "    plt.xticks(rotation=45, ha=\"right\")\n",
    "    plt.xlabel(\"Words/Bigrams\")\n",
    "    plt.ylabel(\"Frequency\")\n",
    "    plt.title(title)\n",
    "    plt.show()\n",
    "\n",
    "# Function to process Wikipedia text file and generate n-gram frequencies\n",
    "def process_wikipedia_text(file_path):\n",
    "    text = extract_text_from_wiki_dump(file_path)\n",
    "    words = clean_and_tokenize(text)\n",
    "\n",
    "    unigram_freq = count_ngram_frequency(words, n=1)\n",
    "    bigram_freq = count_ngram_frequency(words, n=2)\n",
    "\n",
    "    return unigram_freq, bigram_freq\n",
    "\n",
    "# Main Execution\n",
    "if __name__ == \"__main__\":\n",
    "    if not os.path.exists(input_file):\n",
    "        print(f\" Error: {input_file} not found!\")\n",
    "        exit()\n",
    "\n",
    "    unigram_frequencies, bigram_frequencies = process_wikipedia_text(input_file)\n",
    "\n",
    "    # Save unigram frequencies\n",
    "    with open(unigram_output, \"w\", encoding=\"utf-8\") as f:\n",
    "        f.write(\"Word\\tFrequency\\n\")\n",
    "        for word, freq in unigram_frequencies.most_common():\n",
    "            f.write(f\"{word}\\t{freq}\\n\")\n",
    "\n",
    "    # Save bigram frequencies\n",
    "    with open(bigram_output, \"w\", encoding=\"utf-8\") as f:\n",
    "        f.write(\"Bigram\\tFrequency\\n\")\n",
    "        for bigram, freq in bigram_frequencies.most_common():\n",
    "            f.write(f\"{bigram}\\t{freq}\\n\")\n",
    "\n",
    "    print(f\" Word unigram frequencies saved to: {unigram_output}\")\n",
    "    print(f\" Word bigram frequencies saved to: {bigram_output}\")\n",
    "\n",
    "    # Plot unigram and bigram frequency distributions\n",
    "    plot_frequency_distribution(unigram_frequencies, \"Top 20 Unigram Frequency Distribution\")\n",
    "    plot_frequency_distribution(bigram_frequencies, \"Top 20 Bigram Frequency Distribution\")\n"
   ]
  },
  {
   "cell_type": "code",
   "execution_count": 23,
   "id": "ea38845d-0cf6-4cbe-8d83-da0fefa6a482",
   "metadata": {},
   "outputs": [
    {
     "name": "stdout",
     "output_type": "stream",
     "text": [
      "Best segmentation for given test_word'ఉన్నప్పుడు': ('ఉన్నప్పు', 'డు')\n"
     ]
    }
   ],
   "source": [
    "import re\n",
    "import collections\n",
    "import math\n",
    "from itertools import islice\n",
    "\n",
    "# Load and tokenize corpus\n",
    "def load_corpus(file_path):\n",
    "    with open(file_path, \"r\", encoding=\"utf-8\") as file:\n",
    "        text = file.read().lower()\n",
    "    words = re.findall(r'[ఀ-౿]+', text)  # Extract Telugu words only\n",
    "    return words\n",
    "\n",
    "# Generate n-grams\n",
    "def generate_ngrams(words, n):\n",
    "    return [tuple(words[i:i+n]) for i in range(len(words)-n+1)]\n",
    "\n",
    "# Compute n-gram probabilities\n",
    "def compute_ngram_probs(corpus, n):\n",
    "    ngrams = generate_ngrams(corpus, n)\n",
    "    ngram_counts = collections.Counter(ngrams)\n",
    "    lower_order_counts = collections.Counter(generate_ngrams(corpus, n-1)) if n > 1 else None\n",
    "    \n",
    "    probs = {}\n",
    "    for ngram, count in ngram_counts.items():\n",
    "        prefix = ngram[:-1]  # n-1 prefix\n",
    "        probs[ngram] = count / lower_order_counts[prefix] if lower_order_counts and prefix in lower_order_counts else count / len(corpus)\n",
    "    \n",
    "    return probs, ngram_counts\n",
    "\n",
    "# Backoff probability calculation\n",
    "def backoff_prob(word_seq, unigram_probs, bigram_probs, trigram_probs):\n",
    "    if tuple(word_seq) in trigram_probs:\n",
    "        return trigram_probs[tuple(word_seq)]\n",
    "    elif tuple(word_seq[-2:]) in bigram_probs:\n",
    "        return bigram_probs[tuple(word_seq[-2:])]\n",
    "    elif tuple([word_seq[-1]]) in unigram_probs:\n",
    "        return unigram_probs[tuple([word_seq[-1]])]\n",
    "    else:\n",
    "        return 1e-6  # Small probability for unknown words\n",
    "\n",
    "# Morphological segmentation\n",
    "def segment_word(word, unigram_probs, bigram_probs, trigram_probs):\n",
    "    best_split = \"\"\n",
    "    max_prob = 0\n",
    "    for i in range(1, len(word)):\n",
    "        prefix, suffix = word[:i], word[i:]\n",
    "        prob = backoff_prob([prefix, suffix], unigram_probs, bigram_probs, trigram_probs)\n",
    "        if prob > max_prob:\n",
    "            best_split = (prefix, suffix)\n",
    "            max_prob = prob\n",
    "    return best_split\n",
    "\n",
    "# Main function\n",
    "def main():\n",
    "    corpus_path = r\"\\\\wsl.localhost\\Ubuntu\\home\\paila\\wikipedia_project\\extracted_text\\clean_corpus.txt\"  # Updated path\n",
    "    corpus = load_corpus(corpus_path)\n",
    "    \n",
    "    unigram_probs, _ = compute_ngram_probs(corpus, 1)\n",
    "    bigram_probs, _ = compute_ngram_probs(corpus, 2)\n",
    "    trigram_probs, _ = compute_ngram_probs(corpus, 3)\n",
    "    \n",
    "    # Test word segmentation\n",
    "    test_word = \"ఉన్నప్పుడు\"  # Example Telugu word\n",
    "    segmentation = segment_word(test_word, unigram_probs, bigram_probs, trigram_probs)\n",
    "    print(f\"Best segmentation for given test_word'{test_word}':\", segmentation)\n",
    "\n",
    "if __name__ == \"__main__\":\n",
    "    main()\n"
   ]
  },
  {
   "cell_type": "markdown",
   "id": "33a49769-0abf-4506-abc5-767d1e1f9d5d",
   "metadata": {},
   "source": [
    "### Stop Word Removal and Stop Word List Generation\n",
    "A module was developed to remove stop words from each sentence in sentence-corpus.txt. The stop word list was generated based on:\n",
    "\n",
    "- Corpus-Based Stop Words: Words that appear in more than 5% of the sentences were identified as high-frequency words and included in the stop word list.\n",
    "\n",
    "- Standard Telugu Stop Words: Predefined stop words from available linguistic resources like NLTK were incorporated.\n",
    "\n",
    "- Manually Curated Stop Words: Common Telugu function words that add little meaning but frequently occur in the text were added."
   ]
  },
  {
   "cell_type": "code",
   "execution_count": 24,
   "id": "2865ed9c-03d9-46b5-99d7-95bc46fd7781",
   "metadata": {},
   "outputs": [
    {
     "name": "stdout",
     "output_type": "stream",
     "text": [
      "Loading corpus...\n",
      "Generating stop words...\n",
      "Removing stop words...\n",
      "Saving cleaned corpus...\n",
      "Done! Cleaned corpus saved to: \\\\wsl.localhost\\Ubuntu\\home\\paila\\wikipedia_project\\extracted_text\\no_stop_word_corpus.txt\n"
     ]
    }
   ],
   "source": [
    "import nltk\n",
    "from nltk.corpus import stopwords\n",
    "from collections import Counter\n",
    "\n",
    "\n",
    "nltk.download(\"stopwords\")\n",
    "\n",
    "def load_corpus(file_path):\n",
    "    \"\"\"Load the sentence corpus from the given file path.\"\"\"\n",
    "    with open(file_path, \"r\", encoding=\"utf-8\") as file:\n",
    "        sentences = file.readlines()\n",
    "    return [sentence.strip() for sentence in sentences]\n",
    "\n",
    "def generate_stop_words(sentences, threshold=0.05):\n",
    "    \"\"\"Generate stop words list based on word frequency (top 5%).\"\"\"\n",
    "    word_counts = Counter()\n",
    "    total_sentences = len(sentences)\n",
    "    \n",
    "    for sentence in sentences:\n",
    "        words = sentence.split()\n",
    "        word_counts.update(set(words))  # Count unique words per sentence\n",
    "    \n",
    "    # Identify words appearing in more than 'threshold' % of sentences\n",
    "    high_freq_words = {word for word, count in word_counts.items() if count / total_sentences > threshold}\n",
    "    \n",
    "    # Combine with NLTK stop words (if available for Telugu)\n",
    "    telugu_stop_words = set(stopwords.words(\"telugu\")) if \"telugu\" in stopwords.fileids() else set()\n",
    "    custom_stop_words = {\"చేత\", \"వలన\", \"గూర్చి\", \"కొరకు\"}\n",
    "    \n",
    "    return telugu_stop_words | high_freq_words | custom_stop_words\n",
    "\n",
    "def remove_stop_words(sentences, stop_words):\n",
    "    \"\"\"Remove stop words from each sentence.\"\"\"\n",
    "    cleaned_sentences = []\n",
    "    for sentence in sentences:\n",
    "        words = sentence.split()\n",
    "        filtered_words = [word for word in words if word not in stop_words]\n",
    "        cleaned_sentences.append(\" \".join(filtered_words))\n",
    "    return cleaned_sentences\n",
    "\n",
    "def save_corpus(sentences, output_path):\n",
    "    \"\"\"Save cleaned sentences to a new file.\"\"\"\n",
    "    with open(output_path, \"w\", encoding=\"utf-8\") as file:\n",
    "        for sentence in sentences:\n",
    "            file.write(sentence + \"\\n\")\n",
    "\n",
    "def main():\n",
    "    input_file = r\"\\\\wsl.localhost\\Ubuntu\\home\\paila\\wikipedia_project\\extracted_text\\sentence-corpus.txt\"\n",
    "    output_file = r\"\\\\wsl.localhost\\Ubuntu\\home\\paila\\wikipedia_project\\extracted_text\\no_stop_word_corpus.txt\"\n",
    "    \n",
    "    print(\"Loading corpus...\")\n",
    "    sentences = load_corpus(input_file)\n",
    "    \n",
    "    print(\"Generating stop words...\")\n",
    "    stop_words = generate_stop_words(sentences, threshold=0.05)\n",
    "    \n",
    "    print(\"Removing stop words...\")\n",
    "    cleaned_sentences = remove_stop_words(sentences, stop_words)\n",
    "    \n",
    "    print(\"Saving cleaned corpus...\")\n",
    "    save_corpus(cleaned_sentences, output_file)\n",
    "    \n",
    "    print(\"Done! Cleaned corpus saved to:\", output_file)\n",
    "\n",
    "if __name__ == \"__main__\":\n",
    "    main()\n"
   ]
  },
  {
   "cell_type": "code",
   "execution_count": null,
   "id": "65ef22db-3c37-4a70-ba55-86d215e12858",
   "metadata": {},
   "outputs": [],
   "source": []
  }
 ],
 "metadata": {
  "kernelspec": {
   "display_name": "Python 3 (ipykernel)",
   "language": "python",
   "name": "python3"
  },
  "language_info": {
   "codemirror_mode": {
    "name": "ipython",
    "version": 3
   },
   "file_extension": ".py",
   "mimetype": "text/x-python",
   "name": "python",
   "nbconvert_exporter": "python",
   "pygments_lexer": "ipython3",
   "version": "3.12.7"
  }
 },
 "nbformat": 4,
 "nbformat_minor": 5
}
